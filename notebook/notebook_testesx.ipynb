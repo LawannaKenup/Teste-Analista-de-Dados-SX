{
  "cells": [
    {
      "cell_type": "markdown",
      "metadata": {
        "id": "K-8UFmIfR1C1"
      },
      "source": [
        "# Análise e Modelagem dos Microdados do ENEM de 20220\n",
        "\n",
        "Este notebook realiza a **análise exploratória de dados (EDA)** e a **modelagem preditiva** utilizando os microdados do ENEM 2022, utilizando o **PySpark** para processar grandes volumes de dados de forma eficiente."
      ]
    },
    {
      "cell_type": "code",
      "execution_count": 2,
      "metadata": {
        "colab": {
          "base_uri": "https://localhost:8080/"
        },
        "id": "wa3CDLwoRbFJ",
        "outputId": "a5b06c41-157f-4c63-a60c-8371610609b2"
      },
      "outputs": [
        {
          "name": "stdout",
          "output_type": "stream",
          "text": [
            "Requirement already satisfied: pyspark in /usr/local/lib/python3.10/dist-packages (3.5.3)\n",
            "Requirement already satisfied: py4j==0.10.9.7 in /usr/local/lib/python3.10/dist-packages (from pyspark) (0.10.9.7)\n",
            "\n",
            "Usage:   \n",
            "  pip3 install [options] <requirement specifier> [package-index-options] ...\n",
            "  pip3 install [options] -r <requirements file> [package-index-options] ...\n",
            "  pip3 install [options] [-e] <vcs project url> ...\n",
            "  pip3 install [options] [-e] <local project path> ...\n",
            "  pip3 install [options] <archive url/path> ...\n",
            "\n",
            "no such option: -u\n"
          ]
        }
      ],
      "source": [
        "# !pip install pyspark"
      ]
    },
    {
      "cell_type": "markdown",
      "metadata": {
        "id": "SbS2l9ncLWWo"
      },
      "source": [
        "\n",
        "## Importação de Bibliotecas"
      ]
    },
    {
      "cell_type": "code",
      "execution_count": 3,
      "metadata": {
        "id": "AkYEh4Uj5K-8"
      },
      "outputs": [],
      "source": [
        "import pandas as pd\n",
        "import numpy as np\n",
        "import pandas as pd\n",
        "from IPython.core.display import HTML\n",
        "from pyspark.sql import SparkSession\n",
        "from pyspark.sql.types import *\n",
        "from pyspark.sql.functions import *\n",
        "from pyspark.sql import functions as f\n",
        "from pyspark.sql.window import Window\n",
        "from google.colab import drive\n",
        "from IPython.display import display, HTML\n"
      ]
    },
    {
      "cell_type": "markdown",
      "metadata": {
        "id": "9l4lhvHnLu4b"
      },
      "source": [
        "## Criação da Spark Session\n",
        "\n",
        "A Spark Session  é configurada para garantir um processamento eficiente dos dados, alocando 4GB de memória para as tarefas de análise e modelagem de dados.\n",
        "\n"
      ]
    },
    {
      "cell_type": "code",
      "execution_count": 4,
      "metadata": {
        "colab": {
          "base_uri": "https://localhost:8080/",
          "height": 17
        },
        "id": "HPAeQiH75dLK",
        "outputId": "c3ec3544-3f07-4077-fc5a-21e59a55d80e"
      },
      "outputs": [
        {
          "data": {
            "text/html": [
              "<style>pre { white-space: pre !important; }</style>"
            ],
            "text/plain": [
              "<IPython.core.display.HTML object>"
            ]
          },
          "metadata": {},
          "output_type": "display_data"
        }
      ],
      "source": [
        "# Melhor visualização do DataFrame no notebook\n",
        "# Isso evita que o conteúdo seja cortado e melhora a legibilidade no output\n",
        "display(HTML(\"<style>pre { white-space: pre !important; }</style>\"))\n",
        "\n",
        "# Session builder\n",
        "spark = SparkSession.builder \\\n",
        "    .appName(\"Teste SX\") \\\n",
        "    .config(\"spark.executor.memory\", \"4g\") \\\n",
        "    .config(\"spark.driver.memory\", \"4g\") \\\n",
        "    .getOrCreate()"
      ]
    },
    {
      "cell_type": "markdown",
      "metadata": {
        "id": "-bsFZQGuMEex"
      },
      "source": [
        "## Carregamento dos dados\n",
        "\n",
        "Os dados do ENEM de 2020 são carregados com a inferência automática de tipos de dados e separador adequado. O reparticionamento é aplicado para distribuir melhor as tarefas de processamento no cluster.\n",
        "\n",
        "\n"
      ]
    },
    {
      "cell_type": "code",
      "execution_count": 5,
      "metadata": {
        "id": "hutLzshWPf_G"
      },
      "outputs": [],
      "source": [
        "# Carregamento dos microdados ENEM 2022 com inferência de schema e separador adequado\n",
        "df = spark.read.format('csv') \\\n",
        "    .option(\"sep\", \";\") \\\n",
        "    .option(\"header\", \"true\") \\\n",
        "    .option(\"inferSchema\", \"true\") \\\n",
        "    .load('/content/DADOS/MICRODADOS_ENEM_2020.csv')\n",
        "\n",
        "# Otimização das partições para melhorar o desempenho\n",
        "df_enem = df.repartition(1000)"
      ]
    },
    {
      "cell_type": "code",
      "execution_count": 6,
      "metadata": {
        "colab": {
          "base_uri": "https://localhost:8080/"
        },
        "id": "KEqqGfOiZLOf",
        "outputId": "654daf5f-544f-40f3-bc42-9f24009c41ca"
      },
      "outputs": [
        {
          "data": {
            "text/plain": [
              "5783109"
            ]
          },
          "execution_count": 6,
          "metadata": {},
          "output_type": "execute_result"
        }
      ],
      "source": [
        "# Quantidade de linhas do dataset\n",
        "df_enem.count()"
      ]
    },
    {
      "cell_type": "markdown",
      "metadata": {
        "id": "b5bg9-lWfY8r"
      },
      "source": [
        "## Alteração dos valores das colunas do dataset\n",
        "Realizando a modificação dos valores das colunas do dataset para corresponderem ao dicionário de dados do ENEM 2020.\n"
      ]
    },
    {
      "cell_type": "code",
      "execution_count": 7,
      "metadata": {
        "colab": {
          "base_uri": "https://localhost:8080/"
        },
        "id": "0iGtD2OXRj4O",
        "outputId": "067216f0-4945-455d-86af-e3d62209a8c7"
      },
      "outputs": [
        {
          "name": "stdout",
          "output_type": "stream",
          "text": [
            "+------------+------+------------------+-------+---------------------------------+-----------+-----------------------------+--------------------------------------------------+---------------+-------------+--------------+------------+----------------+-------------------+---------+---------+----------------------+------------------+---------------+------------------+--------------------+-----------+-----------+-----------------+-----------------+-----------------+-----------------+-----------+-----------+-----------+-----------+----------+----------+----------+----------+---------------------------------------------+---------------------------------------------+--------------------------------------------------+---------------------------------------------+---------+---------------------------------------------+---------------------------------------------+--------------------------------------------------+---------------------------------------------+-----------------+-------------+-------------+-------------+-------------+-------------+---------------+----+----+----+----+----+----+----+----+----+----+----+----+----+----+----+----+----+----+----+----+----+----+----+----+----+\n",
            "|NU_INSCRICAO|NU_ANO|TP_FAIXA_ETARIA   |TP_SEXO|TP_ESTADO_CIVIL                  |TP_COR_RACA|TP_NACIONALIDADE             |TP_ST_CONCLUSAO                                   |TP_ANO_CONCLUIU|TP_ESCOLA    |TP_ENSINO     |IN_TREINEIRO|CO_MUNICIPIO_ESC|NO_MUNICIPIO_ESC   |CO_UF_ESC|SG_UF_ESC|TP_DEPENDENCIA_ADM_ESC|TP_LOCALIZACAO_ESC|TP_SIT_FUNC_ESC|CO_MUNICIPIO_PROVA|NO_MUNICIPIO_PROVA  |CO_UF_PROVA|SG_UF_PROVA|TP_PRESENCA_CN   |TP_PRESENCA_CH   |TP_PRESENCA_LC   |TP_PRESENCA_MT   |CO_PROVA_CN|CO_PROVA_CH|CO_PROVA_LC|CO_PROVA_MT|NU_NOTA_CN|NU_NOTA_CH|NU_NOTA_LC|NU_NOTA_MT|TX_RESPOSTAS_CN                              |TX_RESPOSTAS_CH                              |TX_RESPOSTAS_LC                                   |TX_RESPOSTAS_MT                              |TP_LINGUA|TX_GABARITO_CN                               |TX_GABARITO_CH                               |TX_GABARITO_LC                                    |TX_GABARITO_MT                               |TP_STATUS_REDACAO|NU_NOTA_COMP1|NU_NOTA_COMP2|NU_NOTA_COMP3|NU_NOTA_COMP4|NU_NOTA_COMP5|NU_NOTA_REDACAO|Q001|Q002|Q003|Q004|Q005|Q006|Q007|Q008|Q009|Q010|Q011|Q012|Q013|Q014|Q015|Q016|Q017|Q018|Q019|Q020|Q021|Q022|Q023|Q024|Q025|\n",
            "+------------+------+------------------+-------+---------------------------------+-----------+-----------------------------+--------------------------------------------------+---------------+-------------+--------------+------------+----------------+-------------------+---------+---------+----------------------+------------------+---------------+------------------+--------------------+-----------+-----------+-----------------+-----------------+-----------------+-----------------+-----------+-----------+-----------+-----------+----------+----------+----------+----------+---------------------------------------------+---------------------------------------------+--------------------------------------------------+---------------------------------------------+---------+---------------------------------------------+---------------------------------------------+--------------------------------------------------+---------------------------------------------+-----------------+-------------+-------------+-------------+-------------+-------------+---------------+----+----+----+----+----+----+----+----+----+----+----+----+----+----+----+----+----+----+----+----+----+----+----+----+----+\n",
            "|200006271946|2020  |Entre 26 e 30 anos|F      |Solteiro(a)                      |Preta      |Brasileiro(a)                |Já concluí o Ensino Médio                         |2010           |Não Respondeu|NULL          |Não         |NULL            |NULL               |NULL     |NULL     |NULL                  |NULL              |NULL           |1501402           |Bel�m               |15         |PA         |Faltou à prova   |Faltou à prova   |Faltou à prova   |Faltou à prova   |NULL       |NULL       |NULL       |NULL       |NULL      |NULL      |NULL      |NULL      |NULL                                         |NULL                                         |NULL                                              |NULL                                         |1        |NULL                                         |NULL                                         |NULL                                              |NULL                                         |NULL             |NULL         |NULL         |NULL         |NULL         |NULL         |NULL           |NULL|NULL|NULL|NULL|NULL|NULL|NULL|NULL|NULL|NULL|NULL|NULL|NULL|NULL|NULL|NULL|NULL|NULL|NULL|NULL|NULL|NULL|NULL|NULL|NULL|\n",
            "|200001195856|2020  |Entre 26 e 30 anos|M      |Casado(a)/Mora com companheiro(a)|Parda      |Brasileiro(a)                |Já concluí o Ensino Médio                         |2010           |Não Respondeu|NULL          |Não         |NULL            |NULL               |NULL     |NULL     |NULL                  |NULL              |NULL           |2408102           |Natal               |24         |RN         |Presente na prova|Presente na prova|Presente na prova|Presente na prova|702        |689        |693        |698        |604.1     |661.7     |595.3     |711.3     |BCBDBDCCCDBDDBADEEACEEAECBECCDBCACDEBEECEBAAE|BCAECABCDCEBDBBBDAABABACBCDDDBDDBABDAADACACBC|99999CADDEDADBAABEAADAAAADCADAABDCCBEECAEECAACBBEB|EBEBDEDAECBADCADDABACAEDBEEEAEADCCBCEACDACEBB|1        |ABBACBCCCDDDDBAEEBECEDACABDCBEDAECDABECCBBADE|BCEECDBCCDEBDBBBBEAAAEACBCDDDBDDBABDABDDBAABC|99999CBDDEDBDBACECABAAAEAECCDCABCBBBBEEDCECAAEBDEB|BBEADECAECBBXCEBADBACAEDACEDADAADCBCCBBDABBEE|Sem problemas    |120          |120          |120          |120          |100          |580            |NULL|NULL|NULL|NULL|NULL|NULL|NULL|NULL|NULL|NULL|NULL|NULL|NULL|NULL|NULL|NULL|NULL|NULL|NULL|NULL|NULL|NULL|NULL|NULL|NULL|\n",
            "|200001943954|2020  |19 anos           |F      |Casado(a)/Mora com companheiro(a)|Parda      |Brasileiro(a) Naturalizado(a)|Estou cursando e concluirei o Ensino Médio em 2020|Não informado  |Pública      |Ensino Regular|Não         |2927408         |Salvador           |29       |BA       |Estadual              |Urbana            |Em atividade   |2927408           |Salvador            |29         |BA         |Faltou à prova   |Faltou à prova   |Faltou à prova   |Faltou à prova   |NULL       |NULL       |NULL       |NULL       |NULL      |NULL      |NULL      |NULL      |NULL                                         |NULL                                         |NULL                                              |NULL                                         |0        |NULL                                         |NULL                                         |NULL                                              |NULL                                         |NULL             |NULL         |NULL         |NULL         |NULL         |NULL         |NULL           |B   |C   |A   |D   |3   |B   |A   |B   |A   |A   |A   |B   |A   |B   |A   |B   |A   |A   |B   |A   |A   |A   |A   |A   |A   |\n",
            "|200001908998|2020  |17 anos           |M      |Solteiro(a)                      |Parda      |Brasileiro(a)                |Estou cursando e concluirei o Ensino Médio em 2020|Não informado  |Pública      |Ensino Regular|Não         |3547304         |Santana de Parna�ba|35       |SP       |Municipal             |Urbana            |Em atividade   |3547304           |Santana de Parna�ba |35         |SP         |Presente na prova|Presente na prova|Presente na prova|Presente na prova|700        |688        |692        |696        |620.8     |675.0     |624.2     |759.4     |EBEDCCCDCBDBAECAECCECEACCBAABBBCEABCAAAEBEBAE|DABCCACCBCCDCADBDCBAAEBDDBAABDBAEBEBBABDABDBE|DCEAB99999AADAECCEBCDDDCBABDDABBCEEBAEDDDADEBECEDB|CBDBDCCDDEECBAABBBADEDEDBECDEBBADAEBAABBECBBA|0        |BDECCACBEBDEAEDAECCBAEABCCEADDBBCADCBDDEBDBAC|DABCCAECBABECADBDCCABDBCDDAABDBAEBEBBDBDDBDBE|DCEAD99999AADACCCCBBDDCABAECAABBEECBAEDDBBEEBECEAB|EBDBXCCDAEECBAABABAEDDEDAECBCDCADEEBBABBACBCA|Sem problemas    |140          |200          |140          |120          |160          |760            |NULL|NULL|NULL|NULL|NULL|NULL|NULL|NULL|NULL|NULL|NULL|NULL|NULL|NULL|NULL|NULL|NULL|NULL|NULL|NULL|NULL|NULL|NULL|NULL|NULL|\n",
            "|200001634757|2020  |19 anos           |F      |Solteiro(a)                      |Parda      |Brasileiro(a) Naturalizado(a)|Já concluí o Ensino Médio                         |2019           |Não Respondeu|NULL          |Não         |NULL            |NULL               |NULL     |NULL     |NULL                  |NULL              |NULL           |3121605           |Diamantina          |31         |MG         |Faltou à prova   |Faltou à prova   |Faltou à prova   |Faltou à prova   |NULL       |NULL       |NULL       |NULL       |NULL      |NULL      |NULL      |NULL      |NULL                                         |NULL                                         |NULL                                              |NULL                                         |1        |NULL                                         |NULL                                         |NULL                                              |NULL                                         |NULL             |NULL         |NULL         |NULL         |NULL         |NULL         |NULL           |B   |G   |B   |B   |3   |B   |A   |B   |D   |A   |A   |B   |A   |B   |A   |A   |A   |A   |B   |A   |B   |B   |A   |A   |B   |\n",
            "|200003132410|2020  |18 anos           |F      |Solteiro(a)                      |Parda      |Brasileiro(a)                |Já concluí o Ensino Médio                         |2019           |Não Respondeu|NULL          |Não         |NULL            |NULL               |NULL     |NULL     |NULL                  |NULL              |NULL           |4305207           |Cerro Largo         |43         |RS         |Presente na prova|Presente na prova|Presente na prova|Presente na prova|598        |567        |577        |588        |498.1     |604.7     |505.4     |526.7     |CABBEEACAEBEBCCDACBEDADDCCBECDCBDADDEBDBDACAB|ACEBBDDCADDAACEEAAEBDBDCCDACCDEDCDACADBBBECDD|99999CBECEBEDBEECEABBADCDDADCADAAECDEBAAADEBADADBC|BADCAAAEEDBEDBACEDBACCDBABDECCDDCCAEAACEDACCB|1        |CEDBDDDCACCBDAEBADCBDCDXAAECEDDDECDDCBDDAEDCC|DABCBDDDAEDBECECBBEDEBDEECBCCCBACDCCADEBDECDD|AAEDCACEEECEAACBAEBBEDACDBAADADDEBBEBAAADEACAAADBB|AEBCCXCCCACCDABCCABCABCBAECEDBBDBEEEDBBACCDAC|Sem problemas    |140          |120          |140          |140          |160          |700            |C   |B   |C   |B   |5   |C   |A   |B   |E   |A   |A   |B   |A   |A   |A   |B   |A   |A   |B   |B   |A   |D   |A   |B   |B   |\n",
            "|200001379770|2020  |24 anos           |M      |Solteiro(a)                      |Parda      |Brasileiro(a)                |Já concluí o Ensino Médio                         |2014           |Não Respondeu|NULL          |Não         |NULL            |NULL               |NULL     |NULL     |NULL                  |NULL              |NULL           |2611606           |Recife              |26         |PE         |Faltou à prova   |Faltou à prova   |Faltou à prova   |Faltou à prova   |NULL       |NULL       |NULL       |NULL       |NULL      |NULL      |NULL      |NULL      |NULL                                         |NULL                                         |NULL                                              |NULL                                         |0        |NULL                                         |NULL                                         |NULL                                              |NULL                                         |NULL             |NULL         |NULL         |NULL         |NULL         |NULL         |NULL           |NULL|NULL|NULL|NULL|NULL|NULL|NULL|NULL|NULL|NULL|NULL|NULL|NULL|NULL|NULL|NULL|NULL|NULL|NULL|NULL|NULL|NULL|NULL|NULL|NULL|\n",
            "|200001334237|2020  |19 anos           |M      |Solteiro(a)                      |Branca     |Brasileiro(a)                |Já concluí o Ensino Médio                         |2019           |Não Respondeu|NULL          |Não         |NULL            |NULL               |NULL     |NULL     |NULL                  |NULL              |NULL           |3550308           |S�o Paulo           |35         |SP         |Presente na prova|Presente na prova|Presente na prova|Presente na prova|699        |687        |691        |695        |604.6     |604.8     |562.1     |753.2     |CECACBBCADACADDEEBDBCBAEEEEBDADABDCEEDDCCDCBC|EAADABBEABCADDBAAEDBCABDABAACAEAEEABECBBADEDB|CADDE99999AEEADBAAABEEECEEDADACBDECABEBEADBCCBAAAA|BABADDBDAEBAEBBBEEDEEECBCEBBDACCEABDCCBADDCCE|0        |DEAAECBBCDCBAEBEEBDBCCACECCDACDABDDBADDECBEBA|EAAADBBEDBDACDBCCDEBDBBCBBADCAECDBABDBCBADEDB|CADDE99999DEBBBBBAADBECBEACCBECEDAEABEECBDCCADAACA|BABBDABAEEBACBACDEDEEXCACEBBADCBEABADCBADDCCE|Sem problemas    |140          |120          |120          |120          |100          |600            |NULL|NULL|NULL|NULL|NULL|NULL|NULL|NULL|NULL|NULL|NULL|NULL|NULL|NULL|NULL|NULL|NULL|NULL|NULL|NULL|NULL|NULL|NULL|NULL|NULL|\n",
            "|200006762554|2020  |20 anos           |F      |Casado(a)/Mora com companheiro(a)|Parda      |Brasileiro(a)                |Já concluí o Ensino Médio                         |2017           |Não Respondeu|NULL          |Não         |NULL            |NULL               |NULL     |NULL     |NULL                  |NULL              |NULL           |2507507           |Jo�o Pessoa         |25         |PB         |Presente na prova|Presente na prova|Presente na prova|Presente na prova|598        |567        |577        |588        |439.7     |383.5     |486.2     |448.5     |DABCDCAEDEDCBEDCDACDDAEBDCEECCDCEECDABDABECAC|ECCAEAEACDDABCBDABEADBABACADABACDDEECBACCDAEC|99999DDCBBABECCACCBBCDACCCAAAADDEAADBBAEECEDEAEDBA|EEDCCEACEBAAAADCDCCABCAEBBEBABDDCCABDEADEDECB|1        |CEDBDDDCACCBDAEBADCBDCDXAAECEDDDECDDCBDDAEDCC|DABCBDDDAEDBECECBBEDEBDEECBCCCBACDCCADEBDECDD|AAEDCACEEECEAACBAEBBEDACDBAADADDEBBEBAAADEACAAADBB|AEBCCXCCCACCDABCCABCABCBAECEDBBDBEEEDBBACCDAC|Sem problemas    |120          |120          |120          |140          |100          |600            |B   |C   |C   |B   |2   |B   |A   |B   |C   |A   |A   |B   |A   |B   |A   |A   |A   |A   |B   |A   |A   |C   |A   |A   |A   |\n",
            "|200005146210|2020  |17 anos           |M      |Solteiro(a)                      |Preta      |Brasileiro(a)                |Estou cursando e concluirei o Ensino Médio em 2020|Não informado  |Pública      |Ensino Regular|Não         |NULL            |NULL               |NULL     |NULL     |NULL                  |NULL              |NULL           |2304400           |Fortaleza           |23         |CE         |Faltou à prova   |Faltou à prova   |Faltou à prova   |Faltou à prova   |NULL       |NULL       |NULL       |NULL       |NULL      |NULL      |NULL      |NULL      |NULL                                         |NULL                                         |NULL                                              |NULL                                         |0        |NULL                                         |NULL                                         |NULL                                              |NULL                                         |NULL             |NULL         |NULL         |NULL         |NULL         |NULL         |NULL           |A   |A   |B   |A   |4   |B   |A   |B   |B   |A   |A   |B   |A   |A   |A   |A   |A   |A   |B   |A   |A   |A   |A   |A   |B   |\n",
            "|200004902048|2020  |21 anos           |M      |Solteiro(a)                      |Branca     |Brasileiro(a)                |Já concluí o Ensino Médio                         |2017           |Não Respondeu|NULL          |Não         |NULL            |NULL               |NULL     |NULL     |NULL                  |NULL              |NULL           |3550308           |S�o Paulo           |35         |SP         |Faltou à prova   |Faltou à prova   |Faltou à prova   |Faltou à prova   |NULL       |NULL       |NULL       |NULL       |NULL      |NULL      |NULL      |NULL      |NULL                                         |NULL                                         |NULL                                              |NULL                                         |0        |NULL                                         |NULL                                         |NULL                                              |NULL                                         |NULL             |NULL         |NULL         |NULL         |NULL         |NULL         |NULL           |B   |B   |B   |B   |7   |B   |A   |B   |C   |A   |A   |B   |A   |A   |A   |B   |A   |A   |B   |A   |A   |C   |B   |B   |B   |\n",
            "|200006138472|2020  |22 anos           |M      |Solteiro(a)                      |Branca     |Brasileiro(a)                |Já concluí o Ensino Médio                         |Não informado  |Não Respondeu|NULL          |Não         |NULL            |NULL               |NULL     |NULL     |NULL                  |NULL              |NULL           |2910727           |Eun�polis           |29         |BA         |Presente na prova|Presente na prova|Presente na prova|Presente na prova|598        |567        |577        |588        |491.1     |631.4     |627.9     |546.5     |BAEACEDBACDDEDECEDCEDBCDECBAECDBEDADBCDACBDDC|CDEABDDDABDBEABCAEECEBDEACACCCEDDDCBAAECDECDD|AACDC99999ABDBEDAEEBEDACDAEAEADDEABEBADADEDCCEADBC|EBCDBEBABDBBDABCBCDDBBEBACEECDBDBCDDBEEDBDDBC|0        |CEDBDDDCACCBDAEBADCBDCDXAAECEDDDECDDCBDDAEDCC|DABCBDDDAEDBECECBBEDEBDEECBCCCBACDCCADEBDECDD|AAEDCACEEECEAACBAEBBEDACDBAADADDEBBEBAAADEACAAADBB|AEBCCXCCCACCDABCCABCABCBAECEDBBDBEEEDBBACCDAC|Sem problemas    |140          |120          |140          |120          |120          |640            |B   |C   |C   |B   |5   |B   |A   |B   |C   |A   |A   |B   |A   |A   |A   |A   |B   |A   |B   |A   |A   |C   |A   |B   |B   |\n",
            "|200005613689|2020  |18 anos           |F      |Solteiro(a)                      |Parda      |Brasileiro(a)                |Já concluí o Ensino Médio                         |2019           |Não Respondeu|NULL          |Não         |NULL            |NULL               |NULL     |NULL     |NULL                  |NULL              |NULL           |5008305           |Tr�s Lagoas         |50         |MS         |Faltou à prova   |Faltou à prova   |Faltou à prova   |Faltou à prova   |NULL       |NULL       |NULL       |NULL       |NULL      |NULL      |NULL      |NULL      |NULL                                         |NULL                                         |NULL                                              |NULL                                         |0        |NULL                                         |NULL                                         |NULL                                              |NULL                                         |NULL             |NULL         |NULL         |NULL         |NULL         |NULL         |NULL           |D   |E   |A   |A   |3   |B   |A   |B   |C   |A   |A   |B   |A   |A   |A   |A   |A   |A   |A   |A   |A   |C   |A   |A   |A   |\n",
            "|200004833505|2020  |Entre 26 e 30 anos|F      |Casado(a)/Mora com companheiro(a)|Preta      |Brasileiro(a)                |Já concluí o Ensino Médio                         |2010           |Não Respondeu|NULL          |Não         |NULL            |NULL               |NULL     |NULL     |NULL                  |NULL              |NULL           |3547809           |Santo Andr�         |35         |SP         |Faltou à prova   |Faltou à prova   |Faltou à prova   |Faltou à prova   |NULL       |NULL       |NULL       |NULL       |NULL      |NULL      |NULL      |NULL      |NULL                                         |NULL                                         |NULL                                              |NULL                                         |1        |NULL                                         |NULL                                         |NULL                                              |NULL                                         |NULL             |NULL         |NULL         |NULL         |NULL         |NULL         |NULL           |NULL|NULL|NULL|NULL|NULL|NULL|NULL|NULL|NULL|NULL|NULL|NULL|NULL|NULL|NULL|NULL|NULL|NULL|NULL|NULL|NULL|NULL|NULL|NULL|NULL|\n",
            "|200004570764|2020  |Entre 26 e 30 anos|M      |Solteiro(a)                      |Preta      |Brasileiro(a)                |Já concluí o Ensino Médio                         |Não informado  |Não Respondeu|NULL          |Não         |NULL            |NULL               |NULL     |NULL     |NULL                  |NULL              |NULL           |2604007           |Carpina             |26         |PE         |Faltou à prova   |Faltou à prova   |Faltou à prova   |Faltou à prova   |NULL       |NULL       |NULL       |NULL       |NULL      |NULL      |NULL      |NULL      |NULL                                         |NULL                                         |NULL                                              |NULL                                         |1        |NULL                                         |NULL                                         |NULL                                              |NULL                                         |NULL             |NULL         |NULL         |NULL         |NULL         |NULL         |NULL           |H   |B   |F   |B   |3   |B   |A   |C   |D   |A   |A   |B   |A   |A   |A   |A   |A   |A   |B   |A   |A   |B   |A   |B   |B   |\n",
            "|200001071590|2020  |20 anos           |F      |Solteiro(a)                      |Parda      |Brasileiro(a)                |Já concluí o Ensino Médio                         |Não informado  |Não Respondeu|NULL          |Não         |NULL            |NULL               |NULL     |NULL     |NULL                  |NULL              |NULL           |2800308           |Aracaju             |28         |SE         |Faltou à prova   |Faltou à prova   |Faltou à prova   |Faltou à prova   |NULL       |NULL       |NULL       |NULL       |NULL      |NULL      |NULL      |NULL      |NULL                                         |NULL                                         |NULL                                              |NULL                                         |1        |NULL                                         |NULL                                         |NULL                                              |NULL                                         |NULL             |NULL         |NULL         |NULL         |NULL         |NULL         |NULL           |NULL|NULL|NULL|NULL|NULL|NULL|NULL|NULL|NULL|NULL|NULL|NULL|NULL|NULL|NULL|NULL|NULL|NULL|NULL|NULL|NULL|NULL|NULL|NULL|NULL|\n",
            "|200001934470|2020  |22 anos           |F      |Solteiro(a)                      |Parda      |Brasileiro(a)                |Já concluí o Ensino Médio                         |2016           |Não Respondeu|NULL          |Não         |NULL            |NULL               |NULL     |NULL     |NULL                  |NULL              |NULL           |2933307           |Vit�ria da Conquista|29         |BA         |Faltou à prova   |Faltou à prova   |Faltou à prova   |Faltou à prova   |NULL       |NULL       |NULL       |NULL       |NULL      |NULL      |NULL      |NULL      |NULL                                         |NULL                                         |NULL                                              |NULL                                         |1        |NULL                                         |NULL                                         |NULL                                              |NULL                                         |NULL             |NULL         |NULL         |NULL         |NULL         |NULL         |NULL           |A   |B   |F   |F   |3   |B   |A   |B   |C   |A   |A   |B   |B   |A   |A   |A   |A   |A   |B   |A   |A   |C   |A   |B   |B   |\n",
            "|200006066678|2020  |19 anos           |M      |Solteiro(a)                      |Branca     |Brasileiro(a)                |Já concluí o Ensino Médio                         |2019           |Não Respondeu|NULL          |Não         |NULL            |NULL               |NULL     |NULL     |NULL                  |NULL              |NULL           |4106902           |Curitiba            |41         |PR         |Faltou à prova   |Faltou à prova   |Faltou à prova   |Faltou à prova   |NULL       |NULL       |NULL       |NULL       |NULL      |NULL      |NULL      |NULL      |NULL                                         |NULL                                         |NULL                                              |NULL                                         |0        |NULL                                         |NULL                                         |NULL                                              |NULL                                         |NULL             |NULL         |NULL         |NULL         |NULL         |NULL         |NULL           |NULL|NULL|NULL|NULL|NULL|NULL|NULL|NULL|NULL|NULL|NULL|NULL|NULL|NULL|NULL|NULL|NULL|NULL|NULL|NULL|NULL|NULL|NULL|NULL|NULL|\n",
            "|200003343448|2020  |22 anos           |F      |Solteiro(a)                      |Parda      |Brasileiro(a)                |Já concluí o Ensino Médio                         |2017           |Não Respondeu|NULL          |Não         |NULL            |NULL               |NULL     |NULL     |NULL                  |NULL              |NULL           |2704302           |Macei�              |27         |AL         |Presente na prova|Presente na prova|Presente na prova|Presente na prova|597        |569        |580        |587        |422.4     |488.1     |559.1     |420.3     |BDCEDABCECACBDCBBDACECBBDAEACECABACACBCDEDAEE|CAEADAEEDEDBDDCABEDEBDDDABBBECDBADBBDEADBCEBB|CADAA99999ABCBEBDCCABADBDEEDAECAADEEDDEADEADABCBDA|BBCCDBEADABBE*CEDADEAADCBEBEADCEDAEDACBADACEB|0        |DDBACBDDDECDAEDCCCEDBDDCBDDCAAECEDDACCBAEDCDX|DECCADEBDECBBECDDCBACDBDEEDABCDDAEDBECECBCCBD|DCEAAEEEACAACBBEBEBAAADBBAEBCEDBAADADDEADEBDACCAAA|DABCCAEDBBCCCABCACCBDXCCCBEEEDBBACCDACBAEBAEC|Sem problemas    |140          |180          |140          |160          |180          |800            |C   |C   |C   |B   |2   |B   |A   |B   |C   |A   |A   |B   |A   |A   |A   |A   |A   |A   |B   |B   |A   |C   |A   |B   |B   |\n",
            "|200005966328|2020  |Entre 26 e 30 anos|M      |Solteiro(a)                      |Preta      |Brasileiro(a)                |Já concluí o Ensino Médio                         |Não informado  |Não Respondeu|NULL          |Não         |NULL            |NULL               |NULL     |NULL     |NULL                  |NULL              |NULL           |1501402           |Bel�m               |15         |PA         |Presente na prova|Presente na prova|Presente na prova|Presente na prova|600        |570        |579        |589        |486.0     |503.3     |439.8     |405.6     |DBEBBBCCDCBCAEBAEDCBDBDDADACDEABDADCDCCEDBBAD|BABAEABBEDBDCDBBECEDAACCAADECACCDDCBECECACABC|99999EAADBDAABCBDCBAAACACAACABBAAADCAAECBBDBCEBDBD|BBAADDCCEABAAEBBAAAEDEDDCEECBBECBADCBDDEBEAAE|1        |DCDXDCCAEBADCBAAEACCBCEDDCBDDDAEDDCDECCEDBDDD|BDDBECECBACDBDEEBDEDDAECDDCCADECBCCCBBEDABCDE|AACDEEEECADBBCAAADBADEABEBAAADEBADADAEBDACAACBBECE|BAECDBBXCCCBDBACCDBEEEBCCAABCCACEACCEDBCABCDA|Sem problemas    |100          |100          |120          |100          |80           |500            |C   |D   |C   |C   |5   |D   |A   |C   |C   |A   |A   |B   |A   |A   |A   |A   |A   |A   |B   |B   |A   |C   |A   |A   |A   |\n",
            "+------------+------+------------------+-------+---------------------------------+-----------+-----------------------------+--------------------------------------------------+---------------+-------------+--------------+------------+----------------+-------------------+---------+---------+----------------------+------------------+---------------+------------------+--------------------+-----------+-----------+-----------------+-----------------+-----------------+-----------------+-----------+-----------+-----------+-----------+----------+----------+----------+----------+---------------------------------------------+---------------------------------------------+--------------------------------------------------+---------------------------------------------+---------+---------------------------------------------+---------------------------------------------+--------------------------------------------------+---------------------------------------------+-----------------+-------------+-------------+-------------+-------------+-------------+---------------+----+----+----+----+----+----+----+----+----+----+----+----+----+----+----+----+----+----+----+----+----+----+----+----+----+\n",
            "only showing top 20 rows\n",
            "\n"
          ]
        }
      ],
      "source": [
        "df_alterado = df \\\n",
        "    .withColumn(\n",
        "        \"TP_FAIXA_ETARIA\",\n",
        "        when(df.TP_FAIXA_ETARIA == 1, \"Menor de 17 anos\")\n",
        "        .when(df.TP_FAIXA_ETARIA == 2, \"17 anos\")\n",
        "        .when(df.TP_FAIXA_ETARIA == 3, \"18 anos\")\n",
        "        .when(df.TP_FAIXA_ETARIA == 4, \"19 anos\")\n",
        "        .when(df.TP_FAIXA_ETARIA == 5, \"20 anos\")\n",
        "        .when(df.TP_FAIXA_ETARIA == 6, \"21 anos\")\n",
        "        .when(df.TP_FAIXA_ETARIA == 7, \"22 anos\")\n",
        "        .when(df.TP_FAIXA_ETARIA == 8, \"23 anos\")\n",
        "        .when(df.TP_FAIXA_ETARIA == 9, \"24 anos\")\n",
        "        .when(df.TP_FAIXA_ETARIA == 10, \"25 anos\")\n",
        "        .when(df.TP_FAIXA_ETARIA >= 11, \"Entre 26 e 30 anos\")\n",
        "        .when(df.TP_FAIXA_ETARIA >= 12, \"Entre 31 e 35 anos\")\n",
        "        .when(df.TP_FAIXA_ETARIA >= 13, \"Entre 36 e 40 anos\")\n",
        "        .when(df.TP_FAIXA_ETARIA >= 14, \"Entre 41 e 45 anos\")\n",
        "        .when(df.TP_FAIXA_ETARIA >= 15, \"Entre 46 e 50 anos\")\n",
        "        .when(df.TP_FAIXA_ETARIA >= 16, \"Entre 51 e 55 anos\")\n",
        "        .when(df.TP_FAIXA_ETARIA >= 17, \"Entre 56 e 60 anos\")\n",
        "        .when(df.TP_FAIXA_ETARIA >= 18, \"Entre 61 e 65 anos\")\n",
        "        .when(df.TP_FAIXA_ETARIA >= 19, \"Entre 66 e 70 anos\")\n",
        "        .when(df.TP_FAIXA_ETARIA >= 20, \"Maior de 70 anos\")\n",
        "        .otherwise(\"Desconhecido\")\n",
        "    ) \\\n",
        "    .withColumn(\n",
        "        \"TP_ESTADO_CIVIL\",\n",
        "        when(df.TP_ESTADO_CIVIL == 0, \"Não informado\")\n",
        "        .when(df.TP_ESTADO_CIVIL == 1, \"Solteiro(a)\")\n",
        "        .when(df.TP_ESTADO_CIVIL == 2, \"Casado(a)/Mora com companheiro(a)\")\n",
        "        .when(df.TP_ESTADO_CIVIL == 3, \"Divorciado(a)/Desquitado(a)/Separado(a)\")\n",
        "        .when(df.TP_ESTADO_CIVIL == 4, \"Viúvo(a)\")\n",
        "        .otherwise(\"Desconhecido\")\n",
        "    ) \\\n",
        "    .withColumn(\n",
        "        \"TP_COR_RACA\",\n",
        "        when(df.TP_COR_RACA == 0, \"Não declarado\")\n",
        "        .when(df.TP_COR_RACA == 1, \"Branca\")\n",
        "        .when(df.TP_COR_RACA == 2, \"Preta\")\n",
        "        .when(df.TP_COR_RACA == 3, \"Parda\")\n",
        "        .when(df.TP_COR_RACA == 4, \"Amarela\")\n",
        "        .when(df.TP_COR_RACA == 5, \"Indígena\")\n",
        "        .otherwise(\"Desconhecido\")\n",
        "    ) \\\n",
        "    .withColumn(\n",
        "        \"TP_NACIONALIDADE\",\n",
        "        when(df.TP_NACIONALIDADE == 0, \"Não informado\")\n",
        "        .when(df.TP_NACIONALIDADE == 1, \"Brasileiro(a)\")\n",
        "        .when(df.TP_NACIONALIDADE == 2, \"Brasileiro(a) Naturalizado(a)\")\n",
        "        .when(df.TP_NACIONALIDADE == 3, \"Estrangeiro(a)\")\n",
        "        .when(df.TP_NACIONALIDADE == 4, \"Brasileiro(a) Nato(a), nascido(a) no exterior\")\n",
        "        .otherwise(\"Desconhecido\")\n",
        "    ) \\\n",
        "    .withColumn(\n",
        "        \"TP_ST_CONCLUSAO\",\n",
        "        when(df.TP_ST_CONCLUSAO == 1, \"Já concluí o Ensino Médio\")\n",
        "        .when(df.TP_ST_CONCLUSAO == 2, \"Estou cursando e concluirei o Ensino Médio em 2020\")\n",
        "        .when(df.TP_ST_CONCLUSAO == 3, \"Estou cursando e concluirei o Ensino Médio após 2020\")\n",
        "        .when(df.TP_ST_CONCLUSAO == 4, \"Não concluí e não estou cursando o Ensino Médio\")\n",
        "        .otherwise(\"Desconhecido\")\n",
        "    ) \\\n",
        "    .withColumn(\n",
        "        \"TP_ANO_CONCLUIU\",\n",
        "        when(df.TP_ANO_CONCLUIU == 0, \"Não informado\")\n",
        "        .when(df.TP_ANO_CONCLUIU == 1, \"2019\")\n",
        "        .when(df.TP_ANO_CONCLUIU == 2, \"2018\")\n",
        "        .when(df.TP_ANO_CONCLUIU == 3, \"2017\")\n",
        "        .when(df.TP_ANO_CONCLUIU == 4, \"2016\")\n",
        "        .when(df.TP_ANO_CONCLUIU == 5, \"2015\")\n",
        "        .when(df.TP_ANO_CONCLUIU == 6, \"2014\")\n",
        "        .when(df.TP_ANO_CONCLUIU == 7, \"2013\")\n",
        "        .when(df.TP_ANO_CONCLUIU == 8, \"2012\")\n",
        "        .when(df.TP_ANO_CONCLUIU == 9, \"2011\")\n",
        "        .when(df.TP_ANO_CONCLUIU >= 10, \"2010\")\n",
        "        .when(df.TP_ANO_CONCLUIU >= 11, \"2009\")\n",
        "        .when(df.TP_ANO_CONCLUIU >= 12, \"2008\")\n",
        "        .when(df.TP_ANO_CONCLUIU >= 13, \"2007\")\n",
        "        .when(df.TP_ANO_CONCLUIU >= 14, \"Antes de 2007\")\n",
        "        .otherwise(\"Desconhecido\")\n",
        "    ) \\\n",
        "    .withColumn(\n",
        "        \"TP_ESCOLA\",\n",
        "        when(df.TP_ESCOLA == 1, \"Não Respondeu\")\n",
        "        .when(df.TP_ESCOLA == 2, \"Pública\")\n",
        "        .when(df.TP_ESCOLA == 3, \"Privada\")\n",
        "        .when(df.TP_ESCOLA == 4, \"Exterior\")\n",
        "        .otherwise(\"Desconhecido\")\n",
        "    ) \\\n",
        "    .withColumn(\n",
        "        \"TP_ENSINO\",\n",
        "        when(df.TP_ENSINO == 1, \"Ensino Regular\")\n",
        "        .when(df.TP_ENSINO == 2, \"Educação Especial - Modalidade Substitutiva\")\n",
        "        .when(df.TP_ENSINO == 3, \"Educação de Jovens e Adultos\")\n",
        "    ) \\\n",
        "    .withColumn(\n",
        "        \"IN_TREINEIRO\",\n",
        "        when(df.IN_TREINEIRO == 0, \"Não\")\n",
        "        .when(df.IN_TREINEIRO == 1, \"Sim\")\n",
        "        .otherwise(\"Desconhecido\")\n",
        "    ) \\\n",
        "    .withColumn(\n",
        "        \"TP_DEPENDENCIA_ADM_ESC\",\n",
        "        when(df.TP_DEPENDENCIA_ADM_ESC == 1, \"Federal\")\n",
        "        .when(df.TP_DEPENDENCIA_ADM_ESC == 2, \"Estadual\")\n",
        "        .when(df.TP_DEPENDENCIA_ADM_ESC == 3, \"Municipal\")\n",
        "        .when(df.TP_DEPENDENCIA_ADM_ESC == 4, \"Privada\")\n",
        "    ) \\\n",
        "    .withColumn(\n",
        "        \"TP_LOCALIZACAO_ESC\",\n",
        "        when(df.TP_LOCALIZACAO_ESC == 1, \"Urbana\")\n",
        "        .when(df.TP_LOCALIZACAO_ESC == 2, \"Rural\")\n",
        "    ) \\\n",
        "    .withColumn(\n",
        "        \"TP_SIT_FUNC_ESC\",\n",
        "        when(df.TP_SIT_FUNC_ESC == 1, \"Em atividade\")\n",
        "        .when(df.TP_SIT_FUNC_ESC == 2, \"Paralisada\")\n",
        "        .when(df.TP_SIT_FUNC_ESC == 3, \"Extinta\")\n",
        "        .when(df.TP_SIT_FUNC_ESC == 4, \"Escola extinta em anos anteriores.\")\n",
        "    ) \\\n",
        "    .withColumn(\n",
        "        \"TP_PRESENCA_CN\",\n",
        "        when(df.TP_PRESENCA_CN == 0, \"Faltou à prova\")\n",
        "        .when(df.TP_PRESENCA_CN == 1, \"Presente na prova\")\n",
        "        .when(df.TP_PRESENCA_CN == 2, \"Eliminado na prova\")\n",
        "        .otherwise(\"Desconhecido\")\n",
        "    ) \\\n",
        "    .withColumn(\n",
        "        \"TP_PRESENCA_CH\",\n",
        "        when(df.TP_PRESENCA_CH == 0, \"Faltou à prova\")\n",
        "        .when(df.TP_PRESENCA_CH == 1, \"Presente na prova\")\n",
        "        .when(df.TP_PRESENCA_CH == 2, \"Eliminado na prova\")\n",
        "        .otherwise(\"Desconhecido\")\n",
        "    ) \\\n",
        "    .withColumn(\n",
        "        \"TP_PRESENCA_LC\",\n",
        "        when(df.TP_PRESENCA_LC == 0, \"Faltou à prova\")\n",
        "        .when(df.TP_PRESENCA_LC == 1, \"Presente na prova\")\n",
        "        .when(df.TP_PRESENCA_LC == 2, \"Eliminado na prova\")\n",
        "        .otherwise(\"Desconhecido\")\n",
        "    ) \\\n",
        "    .withColumn(\n",
        "        \"TP_PRESENCA_MT\",\n",
        "        when(df.TP_PRESENCA_MT == 0, \"Faltou à prova\")\n",
        "        .when(df.TP_PRESENCA_MT == 1, \"Presente na prova\")\n",
        "        .when(df.TP_PRESENCA_MT == 2, \"Eliminado na prova\")\n",
        "        .otherwise(\"Desconhecido\")\n",
        "    ) \\\n",
        "    .withColumn(\n",
        "        \"TP_STATUS_REDACAO\",\n",
        "        when(df.TP_STATUS_REDACAO == 1, \"Sem problemas\")\n",
        "        .when(df.TP_STATUS_REDACAO == 2, \"Anulada\")\n",
        "        .when(df.TP_STATUS_REDACAO == 3, \"Cópia Texto Motivador\")\n",
        "        .when(df.TP_STATUS_REDACAO == 4, \"Em Branco\")\n",
        "        .when(df.TP_STATUS_REDACAO == 6, \"Fuga ao tema\")\n",
        "        .when(df.TP_STATUS_REDACAO == 7, \"Não atendimento ao tipo textual\")\n",
        "        .when(df.TP_STATUS_REDACAO == 8, \"Texto insuficiente\")\n",
        "        .when(df.TP_STATUS_REDACAO == 9, \"Parte desconectada\")\n",
        "    )\n",
        "\n",
        "\n",
        "# Mostra o resultado\n",
        "df_alterado.show(truncate=False)\n"
      ]
    },
    {
      "cell_type": "markdown",
      "metadata": {
        "id": "8UMXuovC3He2"
      },
      "source": [
        "## Alteração do nome das colunas\n",
        "Altera o nome das colunas dos questionarios socioeconomicos para melhor visualização dos dados."
      ]
    },
    {
      "cell_type": "code",
      "execution_count": 8,
      "metadata": {
        "colab": {
          "base_uri": "https://localhost:8080/"
        },
        "id": "FzuB09ii2xUC",
        "outputId": "8ad866ff-c66f-43cf-d862-b6410e4c6585"
      },
      "outputs": [
        {
          "name": "stdout",
          "output_type": "stream",
          "text": [
            "+------------+------+------------------+-------+--------------------+-----------+--------------------+--------------------+---------------+-------------+--------------+------------+----------------+-------------------+---------+---------+----------------------+------------------+---------------+------------------+--------------------+-----------+-----------+-----------------+-----------------+-----------------+-----------------+-----------+-----------+-----------+-----------+----------+----------+----------+----------+--------------------+--------------------+--------------------+--------------------+---------+--------------------+--------------------+--------------------+--------------------+-----------------+-------------+-------------+-------------+-------------+-------------+---------------+----------------+----------------+---------------------+---------------------+--------------------+---------------------+-----------------------+------------+-----------+---------+---------------+-------------+-----------+-----------------------+-----------------------+---------------+-------------+-------------+-------------+-------+-----------------+---------------+------------+--------------+---------------+\n",
            "|NU_INSCRICAO|NU_ANO|   TP_FAIXA_ETARIA|TP_SEXO|     TP_ESTADO_CIVIL|TP_COR_RACA|    TP_NACIONALIDADE|     TP_ST_CONCLUSAO|TP_ANO_CONCLUIU|    TP_ESCOLA|     TP_ENSINO|IN_TREINEIRO|CO_MUNICIPIO_ESC|   NO_MUNICIPIO_ESC|CO_UF_ESC|SG_UF_ESC|TP_DEPENDENCIA_ADM_ESC|TP_LOCALIZACAO_ESC|TP_SIT_FUNC_ESC|CO_MUNICIPIO_PROVA|  NO_MUNICIPIO_PROVA|CO_UF_PROVA|SG_UF_PROVA|   TP_PRESENCA_CN|   TP_PRESENCA_CH|   TP_PRESENCA_LC|   TP_PRESENCA_MT|CO_PROVA_CN|CO_PROVA_CH|CO_PROVA_LC|CO_PROVA_MT|NU_NOTA_CN|NU_NOTA_CH|NU_NOTA_LC|NU_NOTA_MT|     TX_RESPOSTAS_CN|     TX_RESPOSTAS_CH|     TX_RESPOSTAS_LC|     TX_RESPOSTAS_MT|TP_LINGUA|      TX_GABARITO_CN|      TX_GABARITO_CH|      TX_GABARITO_LC|      TX_GABARITO_MT|TP_STATUS_REDACAO|NU_NOTA_COMP1|NU_NOTA_COMP2|NU_NOTA_COMP3|NU_NOTA_COMP4|NU_NOTA_COMP5|NU_NOTA_REDACAO|SERIE_MAX_PAI_HR|SERIE_MAX_MAE_MR|GRUPO_OCUPACAO_PAI_HR|GRUPO_OCUPACAO_MAE_MR|QTD_MORAM_RESIDENCIA|RENDA_MENSAL_FAMILIAR|QTD_EMPREGADO_DOMESTICO|QTD_BANHEIRO|QTD_QUARTOS|QTD_CARRO|QTD_MOTOCICLETA|QTD_GELADEIRA|QTD_FREEZER|QTD_MARQUINA_LAVA_ROUPA|QTD_MAQUINA_SECAR_ROUPA|QTD_MICRO-ONDAS|QTD_LAVA_LUCA|QTD_ASPIRADOR|QTD_TELEVISAO|QTD_DVD|QTD_TV_ASSINATURA|QTD_TEL_CELULAR|QTD_TEL_FIXO|QTD_COMPUTADOR|ACESSO_INTERNET|\n",
            "+------------+------+------------------+-------+--------------------+-----------+--------------------+--------------------+---------------+-------------+--------------+------------+----------------+-------------------+---------+---------+----------------------+------------------+---------------+------------------+--------------------+-----------+-----------+-----------------+-----------------+-----------------+-----------------+-----------+-----------+-----------+-----------+----------+----------+----------+----------+--------------------+--------------------+--------------------+--------------------+---------+--------------------+--------------------+--------------------+--------------------+-----------------+-------------+-------------+-------------+-------------+-------------+---------------+----------------+----------------+---------------------+---------------------+--------------------+---------------------+-----------------------+------------+-----------+---------+---------------+-------------+-----------+-----------------------+-----------------------+---------------+-------------+-------------+-------------+-------+-----------------+---------------+------------+--------------+---------------+\n",
            "|200006271946|  2020|Entre 26 e 30 anos|      F|         Solteiro(a)|      Preta|       Brasileiro(a)|Já concluí o Ensi...|           2010|Não Respondeu|          NULL|         Não|            NULL|               NULL|     NULL|     NULL|                  NULL|              NULL|           NULL|           1501402|               Bel�m|         15|         PA|   Faltou à prova|   Faltou à prova|   Faltou à prova|   Faltou à prova|       NULL|       NULL|       NULL|       NULL|      NULL|      NULL|      NULL|      NULL|                NULL|                NULL|                NULL|                NULL|        1|                NULL|                NULL|                NULL|                NULL|             NULL|         NULL|         NULL|         NULL|         NULL|         NULL|           NULL|            NULL|            NULL|                 NULL|                 NULL|                NULL|                 NULL|                   NULL|        NULL|       NULL|     NULL|           NULL|         NULL|       NULL|                   NULL|                   NULL|           NULL|         NULL|         NULL|         NULL|   NULL|             NULL|           NULL|        NULL|          NULL|           NULL|\n",
            "|200001195856|  2020|Entre 26 e 30 anos|      M|Casado(a)/Mora co...|      Parda|       Brasileiro(a)|Já concluí o Ensi...|           2010|Não Respondeu|          NULL|         Não|            NULL|               NULL|     NULL|     NULL|                  NULL|              NULL|           NULL|           2408102|               Natal|         24|         RN|Presente na prova|Presente na prova|Presente na prova|Presente na prova|        702|        689|        693|        698|     604.1|     661.7|     595.3|     711.3|BCBDBDCCCDBDDBADE...|BCAECABCDCEBDBBBD...|99999CADDEDADBAAB...|EBEBDEDAECBADCADD...|        1|ABBACBCCCDDDDBAEE...|BCEECDBCCDEBDBBBB...|99999CBDDEDBDBACE...|BBEADECAECBBXCEBA...|    Sem problemas|          120|          120|          120|          120|          100|            580|            NULL|            NULL|                 NULL|                 NULL|                NULL|                 NULL|                   NULL|        NULL|       NULL|     NULL|           NULL|         NULL|       NULL|                   NULL|                   NULL|           NULL|         NULL|         NULL|         NULL|   NULL|             NULL|           NULL|        NULL|          NULL|           NULL|\n",
            "|200001943954|  2020|           19 anos|      F|Casado(a)/Mora co...|      Parda|Brasileiro(a) Nat...|Estou cursando e ...|  Não informado|      Pública|Ensino Regular|         Não|         2927408|           Salvador|       29|       BA|              Estadual|            Urbana|   Em atividade|           2927408|            Salvador|         29|         BA|   Faltou à prova|   Faltou à prova|   Faltou à prova|   Faltou à prova|       NULL|       NULL|       NULL|       NULL|      NULL|      NULL|      NULL|      NULL|                NULL|                NULL|                NULL|                NULL|        0|                NULL|                NULL|                NULL|                NULL|             NULL|         NULL|         NULL|         NULL|         NULL|         NULL|           NULL|               B|               C|                    A|                    D|                   3|                    B|                      A|           B|          A|        A|              A|            B|          A|                      B|                      A|              B|            A|            A|            B|      A|                A|              A|           A|             A|              A|\n",
            "|200001908998|  2020|           17 anos|      M|         Solteiro(a)|      Parda|       Brasileiro(a)|Estou cursando e ...|  Não informado|      Pública|Ensino Regular|         Não|         3547304|Santana de Parna�ba|       35|       SP|             Municipal|            Urbana|   Em atividade|           3547304| Santana de Parna�ba|         35|         SP|Presente na prova|Presente na prova|Presente na prova|Presente na prova|        700|        688|        692|        696|     620.8|     675.0|     624.2|     759.4|EBEDCCCDCBDBAECAE...|DABCCACCBCCDCADBD...|DCEAB99999AADAECC...|CBDBDCCDDEECBAABB...|        0|BDECCACBEBDEAEDAE...|DABCCAECBABECADBD...|DCEAD99999AADACCC...|EBDBXCCDAEECBAABA...|    Sem problemas|          140|          200|          140|          120|          160|            760|            NULL|            NULL|                 NULL|                 NULL|                NULL|                 NULL|                   NULL|        NULL|       NULL|     NULL|           NULL|         NULL|       NULL|                   NULL|                   NULL|           NULL|         NULL|         NULL|         NULL|   NULL|             NULL|           NULL|        NULL|          NULL|           NULL|\n",
            "|200001634757|  2020|           19 anos|      F|         Solteiro(a)|      Parda|Brasileiro(a) Nat...|Já concluí o Ensi...|           2019|Não Respondeu|          NULL|         Não|            NULL|               NULL|     NULL|     NULL|                  NULL|              NULL|           NULL|           3121605|          Diamantina|         31|         MG|   Faltou à prova|   Faltou à prova|   Faltou à prova|   Faltou à prova|       NULL|       NULL|       NULL|       NULL|      NULL|      NULL|      NULL|      NULL|                NULL|                NULL|                NULL|                NULL|        1|                NULL|                NULL|                NULL|                NULL|             NULL|         NULL|         NULL|         NULL|         NULL|         NULL|           NULL|               B|               G|                    B|                    B|                   3|                    B|                      A|           B|          D|        A|              A|            B|          A|                      B|                      A|              A|            A|            A|            B|      A|                B|              B|           A|             A|              B|\n",
            "|200003132410|  2020|           18 anos|      F|         Solteiro(a)|      Parda|       Brasileiro(a)|Já concluí o Ensi...|           2019|Não Respondeu|          NULL|         Não|            NULL|               NULL|     NULL|     NULL|                  NULL|              NULL|           NULL|           4305207|         Cerro Largo|         43|         RS|Presente na prova|Presente na prova|Presente na prova|Presente na prova|        598|        567|        577|        588|     498.1|     604.7|     505.4|     526.7|CABBEEACAEBEBCCDA...|ACEBBDDCADDAACEEA...|99999CBECEBEDBEEC...|BADCAAAEEDBEDBACE...|        1|CEDBDDDCACCBDAEBA...|DABCBDDDAEDBECECB...|AAEDCACEEECEAACBA...|AEBCCXCCCACCDABCC...|    Sem problemas|          140|          120|          140|          140|          160|            700|               C|               B|                    C|                    B|                   5|                    C|                      A|           B|          E|        A|              A|            B|          A|                      A|                      A|              B|            A|            A|            B|      B|                A|              D|           A|             B|              B|\n",
            "|200001379770|  2020|           24 anos|      M|         Solteiro(a)|      Parda|       Brasileiro(a)|Já concluí o Ensi...|           2014|Não Respondeu|          NULL|         Não|            NULL|               NULL|     NULL|     NULL|                  NULL|              NULL|           NULL|           2611606|              Recife|         26|         PE|   Faltou à prova|   Faltou à prova|   Faltou à prova|   Faltou à prova|       NULL|       NULL|       NULL|       NULL|      NULL|      NULL|      NULL|      NULL|                NULL|                NULL|                NULL|                NULL|        0|                NULL|                NULL|                NULL|                NULL|             NULL|         NULL|         NULL|         NULL|         NULL|         NULL|           NULL|            NULL|            NULL|                 NULL|                 NULL|                NULL|                 NULL|                   NULL|        NULL|       NULL|     NULL|           NULL|         NULL|       NULL|                   NULL|                   NULL|           NULL|         NULL|         NULL|         NULL|   NULL|             NULL|           NULL|        NULL|          NULL|           NULL|\n",
            "|200001334237|  2020|           19 anos|      M|         Solteiro(a)|     Branca|       Brasileiro(a)|Já concluí o Ensi...|           2019|Não Respondeu|          NULL|         Não|            NULL|               NULL|     NULL|     NULL|                  NULL|              NULL|           NULL|           3550308|           S�o Paulo|         35|         SP|Presente na prova|Presente na prova|Presente na prova|Presente na prova|        699|        687|        691|        695|     604.6|     604.8|     562.1|     753.2|CECACBBCADACADDEE...|EAADABBEABCADDBAA...|CADDE99999AEEADBA...|BABADDBDAEBAEBBBE...|        0|DEAAECBBCDCBAEBEE...|EAAADBBEDBDACDBCC...|CADDE99999DEBBBBB...|BABBDABAEEBACBACD...|    Sem problemas|          140|          120|          120|          120|          100|            600|            NULL|            NULL|                 NULL|                 NULL|                NULL|                 NULL|                   NULL|        NULL|       NULL|     NULL|           NULL|         NULL|       NULL|                   NULL|                   NULL|           NULL|         NULL|         NULL|         NULL|   NULL|             NULL|           NULL|        NULL|          NULL|           NULL|\n",
            "|200006762554|  2020|           20 anos|      F|Casado(a)/Mora co...|      Parda|       Brasileiro(a)|Já concluí o Ensi...|           2017|Não Respondeu|          NULL|         Não|            NULL|               NULL|     NULL|     NULL|                  NULL|              NULL|           NULL|           2507507|         Jo�o Pessoa|         25|         PB|Presente na prova|Presente na prova|Presente na prova|Presente na prova|        598|        567|        577|        588|     439.7|     383.5|     486.2|     448.5|DABCDCAEDEDCBEDCD...|ECCAEAEACDDABCBDA...|99999DDCBBABECCAC...|EEDCCEACEBAAAADCD...|        1|CEDBDDDCACCBDAEBA...|DABCBDDDAEDBECECB...|AAEDCACEEECEAACBA...|AEBCCXCCCACCDABCC...|    Sem problemas|          120|          120|          120|          140|          100|            600|               B|               C|                    C|                    B|                   2|                    B|                      A|           B|          C|        A|              A|            B|          A|                      B|                      A|              A|            A|            A|            B|      A|                A|              C|           A|             A|              A|\n",
            "|200005146210|  2020|           17 anos|      M|         Solteiro(a)|      Preta|       Brasileiro(a)|Estou cursando e ...|  Não informado|      Pública|Ensino Regular|         Não|            NULL|               NULL|     NULL|     NULL|                  NULL|              NULL|           NULL|           2304400|           Fortaleza|         23|         CE|   Faltou à prova|   Faltou à prova|   Faltou à prova|   Faltou à prova|       NULL|       NULL|       NULL|       NULL|      NULL|      NULL|      NULL|      NULL|                NULL|                NULL|                NULL|                NULL|        0|                NULL|                NULL|                NULL|                NULL|             NULL|         NULL|         NULL|         NULL|         NULL|         NULL|           NULL|               A|               A|                    B|                    A|                   4|                    B|                      A|           B|          B|        A|              A|            B|          A|                      A|                      A|              A|            A|            A|            B|      A|                A|              A|           A|             A|              B|\n",
            "|200004902048|  2020|           21 anos|      M|         Solteiro(a)|     Branca|       Brasileiro(a)|Já concluí o Ensi...|           2017|Não Respondeu|          NULL|         Não|            NULL|               NULL|     NULL|     NULL|                  NULL|              NULL|           NULL|           3550308|           S�o Paulo|         35|         SP|   Faltou à prova|   Faltou à prova|   Faltou à prova|   Faltou à prova|       NULL|       NULL|       NULL|       NULL|      NULL|      NULL|      NULL|      NULL|                NULL|                NULL|                NULL|                NULL|        0|                NULL|                NULL|                NULL|                NULL|             NULL|         NULL|         NULL|         NULL|         NULL|         NULL|           NULL|               B|               B|                    B|                    B|                   7|                    B|                      A|           B|          C|        A|              A|            B|          A|                      A|                      A|              B|            A|            A|            B|      A|                A|              C|           B|             B|              B|\n",
            "|200006138472|  2020|           22 anos|      M|         Solteiro(a)|     Branca|       Brasileiro(a)|Já concluí o Ensi...|  Não informado|Não Respondeu|          NULL|         Não|            NULL|               NULL|     NULL|     NULL|                  NULL|              NULL|           NULL|           2910727|           Eun�polis|         29|         BA|Presente na prova|Presente na prova|Presente na prova|Presente na prova|        598|        567|        577|        588|     491.1|     631.4|     627.9|     546.5|BAEACEDBACDDEDECE...|CDEABDDDABDBEABCA...|AACDC99999ABDBEDA...|EBCDBEBABDBBDABCB...|        0|CEDBDDDCACCBDAEBA...|DABCBDDDAEDBECECB...|AAEDCACEEECEAACBA...|AEBCCXCCCACCDABCC...|    Sem problemas|          140|          120|          140|          120|          120|            640|               B|               C|                    C|                    B|                   5|                    B|                      A|           B|          C|        A|              A|            B|          A|                      A|                      A|              A|            B|            A|            B|      A|                A|              C|           A|             B|              B|\n",
            "|200005613689|  2020|           18 anos|      F|         Solteiro(a)|      Parda|       Brasileiro(a)|Já concluí o Ensi...|           2019|Não Respondeu|          NULL|         Não|            NULL|               NULL|     NULL|     NULL|                  NULL|              NULL|           NULL|           5008305|         Tr�s Lagoas|         50|         MS|   Faltou à prova|   Faltou à prova|   Faltou à prova|   Faltou à prova|       NULL|       NULL|       NULL|       NULL|      NULL|      NULL|      NULL|      NULL|                NULL|                NULL|                NULL|                NULL|        0|                NULL|                NULL|                NULL|                NULL|             NULL|         NULL|         NULL|         NULL|         NULL|         NULL|           NULL|               D|               E|                    A|                    A|                   3|                    B|                      A|           B|          C|        A|              A|            B|          A|                      A|                      A|              A|            A|            A|            A|      A|                A|              C|           A|             A|              A|\n",
            "|200004833505|  2020|Entre 26 e 30 anos|      F|Casado(a)/Mora co...|      Preta|       Brasileiro(a)|Já concluí o Ensi...|           2010|Não Respondeu|          NULL|         Não|            NULL|               NULL|     NULL|     NULL|                  NULL|              NULL|           NULL|           3547809|         Santo Andr�|         35|         SP|   Faltou à prova|   Faltou à prova|   Faltou à prova|   Faltou à prova|       NULL|       NULL|       NULL|       NULL|      NULL|      NULL|      NULL|      NULL|                NULL|                NULL|                NULL|                NULL|        1|                NULL|                NULL|                NULL|                NULL|             NULL|         NULL|         NULL|         NULL|         NULL|         NULL|           NULL|            NULL|            NULL|                 NULL|                 NULL|                NULL|                 NULL|                   NULL|        NULL|       NULL|     NULL|           NULL|         NULL|       NULL|                   NULL|                   NULL|           NULL|         NULL|         NULL|         NULL|   NULL|             NULL|           NULL|        NULL|          NULL|           NULL|\n",
            "|200004570764|  2020|Entre 26 e 30 anos|      M|         Solteiro(a)|      Preta|       Brasileiro(a)|Já concluí o Ensi...|  Não informado|Não Respondeu|          NULL|         Não|            NULL|               NULL|     NULL|     NULL|                  NULL|              NULL|           NULL|           2604007|             Carpina|         26|         PE|   Faltou à prova|   Faltou à prova|   Faltou à prova|   Faltou à prova|       NULL|       NULL|       NULL|       NULL|      NULL|      NULL|      NULL|      NULL|                NULL|                NULL|                NULL|                NULL|        1|                NULL|                NULL|                NULL|                NULL|             NULL|         NULL|         NULL|         NULL|         NULL|         NULL|           NULL|               H|               B|                    F|                    B|                   3|                    B|                      A|           C|          D|        A|              A|            B|          A|                      A|                      A|              A|            A|            A|            B|      A|                A|              B|           A|             B|              B|\n",
            "|200001071590|  2020|           20 anos|      F|         Solteiro(a)|      Parda|       Brasileiro(a)|Já concluí o Ensi...|  Não informado|Não Respondeu|          NULL|         Não|            NULL|               NULL|     NULL|     NULL|                  NULL|              NULL|           NULL|           2800308|             Aracaju|         28|         SE|   Faltou à prova|   Faltou à prova|   Faltou à prova|   Faltou à prova|       NULL|       NULL|       NULL|       NULL|      NULL|      NULL|      NULL|      NULL|                NULL|                NULL|                NULL|                NULL|        1|                NULL|                NULL|                NULL|                NULL|             NULL|         NULL|         NULL|         NULL|         NULL|         NULL|           NULL|            NULL|            NULL|                 NULL|                 NULL|                NULL|                 NULL|                   NULL|        NULL|       NULL|     NULL|           NULL|         NULL|       NULL|                   NULL|                   NULL|           NULL|         NULL|         NULL|         NULL|   NULL|             NULL|           NULL|        NULL|          NULL|           NULL|\n",
            "|200001934470|  2020|           22 anos|      F|         Solteiro(a)|      Parda|       Brasileiro(a)|Já concluí o Ensi...|           2016|Não Respondeu|          NULL|         Não|            NULL|               NULL|     NULL|     NULL|                  NULL|              NULL|           NULL|           2933307|Vit�ria da Conquista|         29|         BA|   Faltou à prova|   Faltou à prova|   Faltou à prova|   Faltou à prova|       NULL|       NULL|       NULL|       NULL|      NULL|      NULL|      NULL|      NULL|                NULL|                NULL|                NULL|                NULL|        1|                NULL|                NULL|                NULL|                NULL|             NULL|         NULL|         NULL|         NULL|         NULL|         NULL|           NULL|               A|               B|                    F|                    F|                   3|                    B|                      A|           B|          C|        A|              A|            B|          B|                      A|                      A|              A|            A|            A|            B|      A|                A|              C|           A|             B|              B|\n",
            "|200006066678|  2020|           19 anos|      M|         Solteiro(a)|     Branca|       Brasileiro(a)|Já concluí o Ensi...|           2019|Não Respondeu|          NULL|         Não|            NULL|               NULL|     NULL|     NULL|                  NULL|              NULL|           NULL|           4106902|            Curitiba|         41|         PR|   Faltou à prova|   Faltou à prova|   Faltou à prova|   Faltou à prova|       NULL|       NULL|       NULL|       NULL|      NULL|      NULL|      NULL|      NULL|                NULL|                NULL|                NULL|                NULL|        0|                NULL|                NULL|                NULL|                NULL|             NULL|         NULL|         NULL|         NULL|         NULL|         NULL|           NULL|            NULL|            NULL|                 NULL|                 NULL|                NULL|                 NULL|                   NULL|        NULL|       NULL|     NULL|           NULL|         NULL|       NULL|                   NULL|                   NULL|           NULL|         NULL|         NULL|         NULL|   NULL|             NULL|           NULL|        NULL|          NULL|           NULL|\n",
            "|200003343448|  2020|           22 anos|      F|         Solteiro(a)|      Parda|       Brasileiro(a)|Já concluí o Ensi...|           2017|Não Respondeu|          NULL|         Não|            NULL|               NULL|     NULL|     NULL|                  NULL|              NULL|           NULL|           2704302|              Macei�|         27|         AL|Presente na prova|Presente na prova|Presente na prova|Presente na prova|        597|        569|        580|        587|     422.4|     488.1|     559.1|     420.3|BDCEDABCECACBDCBB...|CAEADAEEDEDBDDCAB...|CADAA99999ABCBEBD...|BBCCDBEADABBE*CED...|        0|DDBACBDDDECDAEDCC...|DECCADEBDECBBECDD...|DCEAAEEEACAACBBEB...|DABCCAEDBBCCCABCA...|    Sem problemas|          140|          180|          140|          160|          180|            800|               C|               C|                    C|                    B|                   2|                    B|                      A|           B|          C|        A|              A|            B|          A|                      A|                      A|              A|            A|            A|            B|      B|                A|              C|           A|             B|              B|\n",
            "|200005966328|  2020|Entre 26 e 30 anos|      M|         Solteiro(a)|      Preta|       Brasileiro(a)|Já concluí o Ensi...|  Não informado|Não Respondeu|          NULL|         Não|            NULL|               NULL|     NULL|     NULL|                  NULL|              NULL|           NULL|           1501402|               Bel�m|         15|         PA|Presente na prova|Presente na prova|Presente na prova|Presente na prova|        600|        570|        579|        589|     486.0|     503.3|     439.8|     405.6|DBEBBBCCDCBCAEBAE...|BABAEABBEDBDCDBBE...|99999EAADBDAABCBD...|BBAADDCCEABAAEBBA...|        1|DCDXDCCAEBADCBAAE...|BDDBECECBACDBDEEB...|AACDEEEECADBBCAAA...|BAECDBBXCCCBDBACC...|    Sem problemas|          100|          100|          120|          100|           80|            500|               C|               D|                    C|                    C|                   5|                    D|                      A|           C|          C|        A|              A|            B|          A|                      A|                      A|              A|            A|            A|            B|      B|                A|              C|           A|             A|              A|\n",
            "+------------+------+------------------+-------+--------------------+-----------+--------------------+--------------------+---------------+-------------+--------------+------------+----------------+-------------------+---------+---------+----------------------+------------------+---------------+------------------+--------------------+-----------+-----------+-----------------+-----------------+-----------------+-----------------+-----------+-----------+-----------+-----------+----------+----------+----------+----------+--------------------+--------------------+--------------------+--------------------+---------+--------------------+--------------------+--------------------+--------------------+-----------------+-------------+-------------+-------------+-------------+-------------+---------------+----------------+----------------+---------------------+---------------------+--------------------+---------------------+-----------------------+------------+-----------+---------+---------------+-------------+-----------+-----------------------+-----------------------+---------------+-------------+-------------+-------------+-------+-----------------+---------------+------------+--------------+---------------+\n",
            "only showing top 20 rows\n",
            "\n"
          ]
        }
      ],
      "source": [
        "# Lista atual de nomes das colunas do DataFrame\n",
        "nomes_atuais = df_alterado.columns\n",
        "\n",
        "# Lista dos novos nomes das colunas que serão atribuídos\n",
        "novos_nomes = [\n",
        "    'SERIE_MAX_PAI_HR', 'SERIE_MAX_MAE_MR', 'GRUPO_OCUPACAO_PAI_HR', 'GRUPO_OCUPACAO_MAE_MR',\n",
        "    'QTD_MORAM_RESIDENCIA', 'RENDA_MENSAL_FAMILIAR', 'QTD_EMPREGADO_DOMESTICO', 'QTD_BANHEIRO',\n",
        "    'QTD_QUARTOS', 'QTD_CARRO', 'QTD_MOTOCICLETA', 'QTD_GELADEIRA', 'QTD_FREEZER',\n",
        "    'QTD_MARQUINA_LAVA_ROUPA', 'QTD_MAQUINA_SECAR_ROUPA', 'QTD_MICRO-ONDAS', 'QTD_LAVA_LUCA',\n",
        "    'QTD_ASPIRADOR', 'QTD_TELEVISAO', 'QTD_DVD', 'QTD_TV_ASSINATURA', 'QTD_TEL_CELULAR',\n",
        "    'QTD_TEL_FIXO', 'QTD_COMPUTADOR', 'ACESSO_INTERNET'\n",
        "]\n",
        "\n",
        "# Lista das colunas atuais que serão alteradas\n",
        "colunas_para_alterar = [\n",
        "    'Q001', 'Q002', 'Q003', 'Q004', 'Q005', 'Q006', 'Q007', 'Q008', 'Q009',\n",
        "    'Q010', 'Q011', 'Q012', 'Q013', 'Q014', 'Q015', 'Q016', 'Q017',\n",
        "    'Q018', 'Q019', 'Q020', 'Q021', 'Q022', 'Q023', 'Q024', 'Q025'\n",
        "]\n",
        "\n",
        "# Criar um dicionário para mapear as colunas antigas para os novos nomes\n",
        "renomeacao = {colunas_para_alterar[i]: novos_nomes[i] for i in range(len(colunas_para_alterar))}\n",
        "\n",
        "# Renomear as colunas no DataFrame e converter seus valores para caixa alta\n",
        "for coluna_antiga, coluna_nova in renomeacao.items():\n",
        "    # Renomear a coluna antiga para o novo nome\n",
        "    df_alterado = df_alterado.withColumnRenamed(coluna_antiga, coluna_nova)\n",
        "\n",
        "# Exibir o DataFrame alterado com as novas colunas e valores em caixa alta\n",
        "df_alterado.show()\n"
      ]
    },
    {
      "cell_type": "markdown",
      "metadata": {
        "id": "39SDgER-QfOj"
      },
      "source": [
        "## Seleção das colunas mais relevantes"
      ]
    },
    {
      "cell_type": "code",
      "execution_count": 9,
      "metadata": {
        "id": "6PplwixUZ7Hj"
      },
      "outputs": [],
      "source": [
        "# Lista com as colunas que serão selecionadas\n",
        "df_cols  = ['NU_INSCRICAO', 'NU_ANO', 'TP_FAIXA_ETARIA', 'TP_SEXO', 'TP_ST_CONCLUSAO','TP_COR_RACA',\n",
        "               'TP_ESCOLA', 'TP_PRESENCA_CN', 'TP_PRESENCA_CH', 'TP_PRESENCA_LC',\n",
        "               'TP_PRESENCA_MT', 'CO_PROVA_CN', 'CO_PROVA_CH', 'CO_PROVA_LC',\n",
        "               'CO_PROVA_MT', 'NU_NOTA_CN', 'NU_NOTA_CH', 'NU_NOTA_LC',\n",
        "               'NU_NOTA_MT', 'TP_STATUS_REDACAO', 'NU_NOTA_REDACAO',\n",
        "               'SERIE_MAX_PAI_HR', 'SERIE_MAX_MAE_MR', 'GRUPO_OCUPACAO_PAI_HR',\n",
        "            'GRUPO_OCUPACAO_MAE_MR','QTD_MORAM_RESIDENCIA', 'RENDA_MENSAL_FAMILIAR']\n",
        "\n",
        "# Seleciona apenas as colunas importantes\n",
        "df_reduzido = df_alterado.select(*df_cols)\n"
      ]
    },
    {
      "cell_type": "markdown",
      "metadata": {
        "id": "_CZM2mxOQ5pR"
      },
      "source": [
        "## Levantando indicadores\n",
        "\n",
        "- Qual a escola com a maior média de notas?\n",
        "- Qual o aluno com a maior média de notas e o valor dessa média?\n",
        "- Qual a média geral?\n",
        "- Qual o % de Ausentes?\n",
        "- Qual o número total de Inscritos?\n",
        "- Qual a média por disciplina?\n",
        "- Qual a média por Sexo?\n",
        "- Qual a média por Etnia?"
      ]
    },
    {
      "cell_type": "code",
      "execution_count": 10,
      "metadata": {
        "id": "cgBwNeyYR8yP"
      },
      "outputs": [],
      "source": [
        "# Cria uma tabela temporária para consultas SQL\n",
        "df_reduzido.createOrReplaceTempView(\"ENEM_2020\")\n"
      ]
    },
    {
      "cell_type": "code",
      "execution_count": 11,
      "metadata": {
        "colab": {
          "base_uri": "https://localhost:8080/"
        },
        "id": "EJBdUIYcQ4Rq",
        "outputId": "361df69e-b4f0-4c62-ef43-e5c1769ead90"
      },
      "outputs": [
        {
          "name": "stdout",
          "output_type": "stream",
          "text": [
            "+---------+-----------+\n",
            "|TP_ESCOLA|media_total|\n",
            "+---------+-----------+\n",
            "|  Privada|     605.86|\n",
            "+---------+-----------+\n",
            "\n"
          ]
        }
      ],
      "source": [
        "# Escola com a maior média de notas\n",
        "spark.sql(\"\"\"\n",
        "SELECT TP_ESCOLA,\n",
        "       ROUND(AVG((NU_NOTA_CN + NU_NOTA_CH + NU_NOTA_LC + NU_NOTA_MT + NU_NOTA_REDACAO) / 5),2) AS media_total\n",
        "FROM ENEM_2020\n",
        "GROUP BY TP_ESCOLA\n",
        "ORDER BY media_total DESC\n",
        "LIMIT 1\n",
        "\"\"\").show()\n"
      ]
    },
    {
      "cell_type": "markdown",
      "metadata": {
        "id": "1gi2D0F_1CUu"
      },
      "source": [
        "Obtivemos como resultado que a escola com a maior média de notas é escola Privada."
      ]
    },
    {
      "cell_type": "code",
      "execution_count": 12,
      "metadata": {
        "colab": {
          "base_uri": "https://localhost:8080/"
        },
        "id": "hD3PGMhCSS3H",
        "outputId": "3f58f1b1-b76c-4f9d-fc91-291924bf6ec2"
      },
      "outputs": [
        {
          "name": "stdout",
          "output_type": "stream",
          "text": [
            "+------------+-----------+\n",
            "|NU_INSCRICAO|media_aluno|\n",
            "+------------+-----------+\n",
            "|200005996961|     858.58|\n",
            "+------------+-----------+\n",
            "\n"
          ]
        }
      ],
      "source": [
        "# Aluno com a maior média de notas e o valor da média\n",
        "spark.sql(\"\"\"\n",
        "SELECT NU_INSCRICAO,\n",
        "       ROUND(((NU_NOTA_CN + NU_NOTA_CH + NU_NOTA_LC + NU_NOTA_MT + NU_NOTA_REDACAO) / 5), 2) AS media_aluno\n",
        "FROM ENEM_2020\n",
        "ORDER BY media_aluno DESC\n",
        "LIMIT 1\n",
        "\"\"\").show()\n"
      ]
    },
    {
      "cell_type": "markdown",
      "metadata": {
        "id": "A-BofgkF1guU"
      },
      "source": [
        "Obtivemos como resultado que o aluno com a maior média foi o aluno com o número de inscrição 200005996961 e sua média foi de 858.58"
      ]
    },
    {
      "cell_type": "code",
      "execution_count": 13,
      "metadata": {
        "colab": {
          "base_uri": "https://localhost:8080/"
        },
        "id": "1BjTIBQ_TNzk",
        "outputId": "87fe19d7-6560-496c-868f-1efef75575d7"
      },
      "outputs": [
        {
          "name": "stdout",
          "output_type": "stream",
          "text": [
            "+-----------+\n",
            "|media_geral|\n",
            "+-----------+\n",
            "|     526.58|\n",
            "+-----------+\n",
            "\n"
          ]
        }
      ],
      "source": [
        "# Média geral\n",
        "spark.sql(\"\"\"\n",
        "SELECT ROUND(AVG((NU_NOTA_CN + NU_NOTA_CH + NU_NOTA_LC + NU_NOTA_MT + NU_NOTA_REDACAO) / 5),2) AS media_geral\n",
        "FROM ENEM_2020\n",
        "\"\"\").show()\n"
      ]
    },
    {
      "cell_type": "markdown",
      "metadata": {
        "id": "aDgx4fKs2Dq2"
      },
      "source": [
        "Obtivemos como resultado que a média geral é de 526.58.\n",
        "\n"
      ]
    },
    {
      "cell_type": "code",
      "execution_count": 14,
      "metadata": {
        "colab": {
          "base_uri": "https://localhost:8080/"
        },
        "id": "Hgn55MfwTtoo",
        "outputId": "111c08cd-5953-43c7-ccde-097b1f88a5ae"
      },
      "outputs": [
        {
          "name": "stdout",
          "output_type": "stream",
          "text": [
            "+--------------------+\n",
            "|porcentagem_ausentes|\n",
            "+--------------------+\n",
            "|               52.15|\n",
            "+--------------------+\n",
            "\n"
          ]
        }
      ],
      "source": [
        "# Porcentagem de ausentes\n",
        "spark.sql(\"\"\"\n",
        "SELECT ROUND((COUNT(*) * 100.0 / (SELECT COUNT(*) FROM ENEM_2020)),2) AS porcentagem_ausentes\n",
        "FROM ENEM_2020\n",
        "WHERE TP_PRESENCA_CN = 'Faltou à prova' AND TP_PRESENCA_CH = 'Faltou à prova' AND TP_PRESENCA_LC = 'Faltou à prova' AND TP_PRESENCA_MT = 'Faltou à prova'\n",
        "\"\"\").show()\n"
      ]
    },
    {
      "cell_type": "markdown",
      "metadata": {
        "id": "IH0KJ3DS2ieI"
      },
      "source": [
        "Obtivemos como resultado que a porcentagem dos alunos que não compareceram à prova do enem de 2020 foi de 52.15%, mais da metade dos inscritos."
      ]
    },
    {
      "cell_type": "code",
      "execution_count": 15,
      "metadata": {
        "colab": {
          "base_uri": "https://localhost:8080/"
        },
        "id": "2FV6lsafUGQz",
        "outputId": "e3ae75a4-5b9a-46cd-a775-e4a29111a10c"
      },
      "outputs": [
        {
          "name": "stdout",
          "output_type": "stream",
          "text": [
            "+---------------+\n",
            "|total_inscritos|\n",
            "+---------------+\n",
            "|        5783109|\n",
            "+---------------+\n",
            "\n"
          ]
        }
      ],
      "source": [
        "# Número total de inscritos\n",
        "spark.sql(\"\"\"\n",
        "SELECT COUNT(DISTINCT NU_INSCRICAO) AS total_inscritos\n",
        "FROM ENEM_2020\n",
        "\"\"\").show()"
      ]
    },
    {
      "cell_type": "markdown",
      "metadata": {
        "id": "TIawSgFa3RtC"
      },
      "source": [
        "Obtivemos como resultado que o número total de inscritos foram de 5783109."
      ]
    },
    {
      "cell_type": "code",
      "execution_count": 16,
      "metadata": {
        "colab": {
          "base_uri": "https://localhost:8080/"
        },
        "id": "w0AuiLQeU8Ew",
        "outputId": "fda5c6bf-7434-48bc-b425-f18b4e196370"
      },
      "outputs": [
        {
          "name": "stdout",
          "output_type": "stream",
          "text": [
            "+--------+--------+--------+--------+\n",
            "|media_cn|media_ch|media_lc|media_mt|\n",
            "+--------+--------+--------+--------+\n",
            "|  490.41|  511.15|   523.8|  520.58|\n",
            "+--------+--------+--------+--------+\n",
            "\n"
          ]
        }
      ],
      "source": [
        "# Média por disciplina\n",
        "spark.sql(\"\"\"\n",
        "SELECT ROUND(AVG(NU_NOTA_CN),2) AS media_cn,\n",
        "       ROUND(AVG(NU_NOTA_CH),2) AS media_ch,\n",
        "       ROUND(AVG(NU_NOTA_LC),2) AS media_lc,\n",
        "       ROUND(AVG(NU_NOTA_MT),2) AS media_mt\n",
        "FROM ENEM_2020\n",
        "\"\"\").show()\n"
      ]
    },
    {
      "cell_type": "markdown",
      "metadata": {
        "id": "0pRxi-eD3lGI"
      },
      "source": [
        "Obtemos como resultado que a média por disciplina é de 490.41para ciências da natureza, 511.15 para ciências humanas, 523.8 para linguagens e códigos e de 520.58 para matemática. A maior média foi da disciplina de linguagens e códigos"
      ]
    },
    {
      "cell_type": "code",
      "execution_count": 17,
      "metadata": {
        "colab": {
          "base_uri": "https://localhost:8080/"
        },
        "id": "Ft59CI9_VH55",
        "outputId": "5d683644-b481-443e-92f1-16e75387451a"
      },
      "outputs": [
        {
          "name": "stdout",
          "output_type": "stream",
          "text": [
            "+-------+--------------+\n",
            "|TP_SEXO|media_por_sexo|\n",
            "+-------+--------------+\n",
            "|      M|        528.58|\n",
            "|      F|        502.61|\n",
            "+-------+--------------+\n",
            "\n"
          ]
        }
      ],
      "source": [
        "# Média por sexo\n",
        "spark.sql(\"\"\"\n",
        "SELECT TP_SEXO,\n",
        "       ROUND(AVG((NU_NOTA_CN + NU_NOTA_CH + NU_NOTA_LC + NU_NOTA_MT)/4),2) AS media_por_sexo\n",
        "FROM ENEM_2020\n",
        "GROUP BY TP_SEXO\n",
        "ORDER BY media_por_sexo DESC\n",
        "\"\"\").show()\n"
      ]
    },
    {
      "cell_type": "markdown",
      "metadata": {
        "id": "z3vrgklh7-nY"
      },
      "source": [
        "Obtemos como resultado que a média de notas de acordo com o sexo é de 528.58 para masculino e de 502.61 para feminino."
      ]
    },
    {
      "cell_type": "code",
      "execution_count": 18,
      "metadata": {
        "colab": {
          "base_uri": "https://localhost:8080/"
        },
        "id": "NtuER6IfVTTE",
        "outputId": "ffba434f-693e-45c4-a897-8c4b10f9afaf"
      },
      "outputs": [
        {
          "name": "stdout",
          "output_type": "stream",
          "text": [
            "+-------------+---------------+\n",
            "|  TP_COR_RACA|media_por_etnia|\n",
            "+-------------+---------------+\n",
            "|       Branca|         539.92|\n",
            "|Não declarado|         522.08|\n",
            "|      Amarela|         511.22|\n",
            "|        Parda|         496.35|\n",
            "|        Preta|         490.58|\n",
            "|     Indígena|         467.16|\n",
            "+-------------+---------------+\n",
            "\n"
          ]
        }
      ],
      "source": [
        "# Média por etnia\n",
        "spark.sql(\"\"\"\n",
        "SELECT TP_COR_RACA,\n",
        "       ROUND(AVG((NU_NOTA_CN + NU_NOTA_CH + NU_NOTA_LC + NU_NOTA_MT)/4),2) AS media_por_etnia\n",
        "FROM ENEM_2020\n",
        "GROUP BY TP_COR_RACA\n",
        "ORDER BY media_por_etnia DESC\n",
        "\"\"\").show()\n"
      ]
    },
    {
      "cell_type": "markdown",
      "metadata": {
        "id": "CP_i8o-w8Zm0"
      },
      "source": [
        "Obtemos como resultado que a média de notas de acordo com a etnia é de 539.92 para Branca, 522.08 para não declarado, 511.22 para amarela, 496.35 para parda, 490.58 para Preta e 467.16 para indígena."
      ]
    },
    {
      "cell_type": "markdown",
      "metadata": {
        "id": "WVmqCZcHV-92"
      },
      "source": [
        "## Seleção de dados\n",
        "\n",
        "Seleção somente dos dados dos candidatos que compareceram à prova."
      ]
    },
    {
      "cell_type": "code",
      "execution_count": 19,
      "metadata": {
        "id": "1AhmIo9aWgfA"
      },
      "outputs": [],
      "source": [
        "# Filtrar linhas com notas válidas e status de redação válido\n",
        "df_reduzido = spark.sql(\"\"\"\n",
        "SELECT *\n",
        "FROM ENEM_2020\n",
        "WHERE TP_PRESENCA_CN = 'Presente na prova' AND TP_PRESENCA_CH = 'Presente na prova' AND TP_PRESENCA_LC = 'Presente na prova' AND TP_PRESENCA_MT = 'Presente na prova'\n",
        "\"\"\")"
      ]
    },
    {
      "cell_type": "markdown",
      "metadata": {
        "id": "wU437xmVd09W"
      },
      "source": [
        "## Criação de uma nova coluna\n",
        "\n",
        "Criação da coluna NOTA_TOTAL visando correlaciona-la outras colunas."
      ]
    },
    {
      "cell_type": "code",
      "execution_count": 20,
      "metadata": {
        "id": "NVGWd0H26-pU"
      },
      "outputs": [],
      "source": [
        "# Cria a coluna de nota total\n",
        "df_reduzido = df_reduzido.withColumn(\"NOTA_TOTAL\", (df_reduzido.NU_NOTA_CN +\n",
        "                                                    df_reduzido.NU_NOTA_CH +\n",
        "                                                    df_reduzido.NU_NOTA_LC +\n",
        "                                                    df_reduzido.NU_NOTA_MT) / 4)"
      ]
    },
    {
      "cell_type": "code",
      "execution_count": 21,
      "metadata": {
        "id": "k4yC5w1Vurry"
      },
      "outputs": [],
      "source": [
        "# Salva o DataFrame como CSV em um único arquivo\n",
        "# df_reduzido.coalesce(1).write.csv('/content/DADOS_2', header=True, mode='overwrite')\n"
      ]
    }
  ],
  "metadata": {
    "colab": {
      "provenance": []
    },
    "kernelspec": {
      "display_name": "Python 3",
      "name": "python3"
    },
    "language_info": {
      "name": "python"
    }
  },
  "nbformat": 4,
  "nbformat_minor": 0
}
